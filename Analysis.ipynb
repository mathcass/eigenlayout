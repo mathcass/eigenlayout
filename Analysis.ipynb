{
 "cells": [
  {
   "cell_type": "markdown",
   "metadata": {},
   "source": [
    "# Eigenlayouts\n",
    "\n",
    "I originally started this project in mid-2016 after being inspired by a similar application in facial recognition. In facial recognition, applying PCA to a group of images gives you \"eigenfaces\" so I reasons, \"Could we see something similar in websites and could it give insight into common patterns for building products online?\" \n",
    "\n",
    "As mentioned, I wrote code to collect this data from the web using PhantomJS and GNU `make`. Here public links to the collected datasets:\n",
    "\n",
    "* [Full top 10,000 Alexa dataset of images](https://storage.googleapis.com/mathcass-data/eigenlayout/images-100.tar.gz)\n",
    "* [Random sample of images](https://storage.googleapis.com/mathcass-data/eigenlayout/images-sample.tar.gz)\n",
    "* [Small sample of \"interesting\" websites](https://storage.googleapis.com/mathcass-data/eigenlayout/images.tar.gz)\n",
    "\n",
    "Here's an archive of the top 1 million sites from Alexa as of April 2016. \n",
    "\n",
    "## Inspired reading\n",
    "\n",
    "* [Sanger's Rule](https://www.carl-olsson.com/sangers-rule-bcm/)\n",
    "* [Emergence of simple-cell receptive field properties by learning a sparse code for natural images](https://courses.cs.washington.edu/courses/cse528/11sp/Olshausen-nature-paper.pdf)\n",
    "* [Faces dataset decompositions](http://scikit-learn.org/stable/auto_examples/decomposition/plot_faces_decomposition.html)"
   ]
  }
 ],
 "metadata": {
  "kernelspec": {
   "display_name": "Python 3",
   "language": "python",
   "name": "python3"
  },
  "language_info": {
   "codemirror_mode": {
    "name": "ipython",
    "version": 3
   },
   "file_extension": ".py",
   "mimetype": "text/x-python",
   "name": "python",
   "nbconvert_exporter": "python",
   "pygments_lexer": "ipython3",
   "version": "3.6.2"
  }
 },
 "nbformat": 4,
 "nbformat_minor": 2
}
